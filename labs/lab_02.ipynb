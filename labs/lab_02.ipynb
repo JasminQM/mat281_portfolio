{
 "cells": [
  {
   "cell_type": "markdown",
   "metadata": {},
   "source": [
    "# MAT281 - Laboratorio N°02\n",
    "\n"
   ]
  },
  {
   "cell_type": "markdown",
   "metadata": {},
   "source": [
    "<a id='p1'></a>\n",
    "\n",
    "## Problema 01\n",
    "\n",
    "Una **media móvil simple** (SMA) es el promedio de los últimos $k$ datos anteriores, es decir, sea $a_1$,$a_2$,...,$a_n$ un arreglo $n$-dimensional, entonces la SMA se define por:\n",
    "\n",
    "$$\\displaystyle sma(k) =\\dfrac{1}{k}(a_{n}+a_{n-1}+...+a_{n-(k-1)}) = \\dfrac{1}{k}\\sum_{i=0}^{k-1}a_{n-i}  $$ \n",
    "\n",
    "\n",
    "Por otro lado podemos definir el SMA con una venta móvil de $n$ si el resultado nos retorna la el promedio ponderado avanzando de la siguiente forma:\n",
    "\n",
    "* $a = [1,2,3,4,5]$, la SMA con una ventana de $n=2$ sería:\n",
    " * sma(2) = [promedio(1,2), promedio(2,3), promedio(3,4), promedio(4,5)] = [1.5, 2.5, 3.5, 4.5]\n",
    "\n",
    "\n",
    "* $a = [1,2,3,4,5]$, la SMA con una ventana de $n=3$ sería:\n",
    " * sma(3) = [promedio(1,2,3), promedio(2,3,4), promedio(3,4,5)] = [2.,3.,4.]\n",
    "\n",
    "\n",
    "Implemente una función llamada `sma` cuyo input sea un arreglo unidimensional $a$ y un entero $n$, y cuyo ouput retorne el valor de la media móvil simple sobre el arreglo de la siguiente forma:\n",
    "\n",
    "* **Ejemplo**: *sma([5,3,8,10,2,1,5,1,0,2], 2)* = $[4. , 5.5, 9. , 6. , 1.5, 3. , 3. , 0.5, 1. ]$\n",
    "\n",
    "En este caso, se esta calculando el SMA para un arreglo con una ventana de $n=2$.\n",
    "\n",
    "**Hint**: utilice la función `numpy.cumsum`"
   ]
  },
  {
   "cell_type": "code",
   "execution_count": null,
   "metadata": {},
   "outputs": [],
   "source": [
    "# importar librerias\n",
    "import numpy as np "
   ]
  },
  {
   "cell_type": "markdown",
   "metadata": {},
   "source": [
    "### Definir Función"
   ]
  },
  {
   "cell_type": "code",
   "execution_count": null,
   "metadata": {},
   "outputs": [],
   "source": [
    "def sma(a,n):\n",
    "    \n",
    "    \"\"\"\n",
    "    sma(a,n)\n",
    "\n",
    "    Calculo de la media móvil simple (SMA) del arreglo a.\n",
    "\n",
    "    Parameters\n",
    "    ----------\n",
    "    a : array\n",
    "        Arreglo al cual se le calculara el SMA.\n",
    "    n : int\n",
    "        Numero de terminos utilizados para calcular el SMA.\n",
    "\n",
    "    Returns\n",
    "    -------\n",
    "    output :  float array\n",
    "        Arreglo con los valores del SMA del arreglo a.\n",
    "    \"\"\"\n",
    "    \n",
    "    l=np.size(a)\n",
    "    list=[]#lista vacia\n",
    "    for i in range(0,l):\n",
    "        if i+n-1<l:\n",
    "            c=a[i:i+n]#se toman los terminos que se van a sumar\n",
    "            b=np.cumsum(c, dtype=float)#se generan las sumas de los terminos\n",
    "            k=b[len(b)-1]/n#k es el valor de sma(k) para los terminos de c\n",
    "            list.append(k)#a la lista se le agrega k que el sma(k)\n",
    "    r=np.array(list)#se transforma la lista en un arreglo\n",
    "    return r"
   ]
  },
  {
   "cell_type": "markdown",
   "metadata": {},
   "source": [
    "### Verificar ejemplos"
   ]
  },
  {
   "cell_type": "code",
   "execution_count": null,
   "metadata": {},
   "outputs": [],
   "source": [
    "# ejemplo 01\n",
    "a = np.array([1,2,3,4,5])\n",
    "\n",
    "np.testing.assert_array_equal(\n",
    "    sma(a,2),\n",
    "    np.array([1.5, 2.5, 3.5, 4.5])\n",
    ")"
   ]
  },
  {
   "cell_type": "code",
   "execution_count": null,
   "metadata": {},
   "outputs": [],
   "source": [
    "# ejemplo 02\n",
    "a = np.array([5,3,8,10,2,1,5,1,0,2])\n",
    "\n",
    "np.testing.assert_array_equal(\n",
    "    sma(a,2),\n",
    "    np.array([4. , 5.5, 9. , 6. , 1.5, 3. , 3. , 0.5, 1. ])\n",
    ")"
   ]
  },
  {
   "cell_type": "markdown",
   "metadata": {},
   "source": [
    "<a id='p2'></a>\n",
    "\n",
    "## Problema 02\n",
    "\n",
    "La función **strides($a,n,p$)**, corresponde a transformar un arreglo unidimensional $a$ en una matriz de $n$ columnas, en el cual las filas se van construyendo desfasando la posición del arreglo en $p$ pasos hacia adelante.\n",
    "\n",
    "* Para el arreglo unidimensional $a$ = [ 1,  2,  3,  4,  5,  6,  7,  8,  9, 10], la función strides($a,4,2$), corresponde a crear una matriz de $4$ columnas, cuyos desfaces hacia adelante se hacen de dos en dos. \n",
    "\n",
    "El resultado tendría que ser algo así:$$\\begin{pmatrix}\n",
    " 1& 2 &3 &4 \\\\ \n",
    " 3&  4&5&6 \\\\ \n",
    " 5& 6 &7 &8 \\\\ \n",
    " 7& 8 &9 &10 \\\\ \n",
    "\\end{pmatrix}$$\n",
    "\n",
    "\n",
    "Implemente una función llamada `strides(a,n,p)` cuyo input sea:\n",
    "* $a$: un arreglo unidimensional, \n",
    "* $n$: el número de columnas,\n",
    "* $p$: el número de pasos hacia adelante  \n",
    "\n",
    "y retorne la matriz de $n$ columnas, cuyos desfaces hacia adelante se hacen de $p$ en $p$ pasos. \n",
    "\n",
    "* **Ejemplo**: *strides($a$,4,2)* =$\\begin{pmatrix}\n",
    " 1& 2 &3 &4 \\\\ \n",
    " 3&  4&5&6 \\\\ \n",
    " 5& 6 &7 &8 \\\\ \n",
    " 7& 8 &9 &10 \\\\ \n",
    "\\end{pmatrix}$\n"
   ]
  },
  {
   "cell_type": "markdown",
   "metadata": {},
   "source": [
    "### Definir Función"
   ]
  },
  {
   "cell_type": "code",
   "execution_count": null,
   "metadata": {},
   "outputs": [],
   "source": [
    "def strides(a,n,p):\n",
    "    \n",
    "    \"\"\"\n",
    "    strides(a,n,p)\n",
    "\n",
    "    Transformacion del arreglo a en una matriz de  𝑛  columnas, \n",
    "    donde las filas se van construyendo desfasando la posición del arreglo en  𝑝  pasos hacia adelante.\n",
    "\n",
    "    Parameters\n",
    "    ----------\n",
    "    a : array\n",
    "        Arreglo que se transformara a matriz.\n",
    "    n : int\n",
    "        Tamaño de las filas y columnas de la matriz.\n",
    "    p : int\n",
    "        Desfase para los primeros terminos de cada fila de la matriz\n",
    "\n",
    "    Returns\n",
    "    -------\n",
    "    output : matrix\n",
    "        Matriz hecha del arreglo a, tamaño nxn con un desfase de p en el primer termino de cada fila.\n",
    "    \"\"\"\n",
    "    \n",
    "    l=np.size(a)\n",
    "    i=0\n",
    "    list_provisoria=[]#lista vacia\n",
    "    while i<l:\n",
    "        k=i\n",
    "        if np.size(a[i:i+n])==n:#se revisa si el arreglo tiene el largo de n \n",
    "            list_provisoria.append(a[i:i+n])# se agrega el arreglo a la lista\n",
    "        else:\n",
    "            break\n",
    "        i+=p\n",
    "    r = np.array(list_provisoria)#se transforma la lista en un arreglo\n",
    "    return r"
   ]
  },
  {
   "cell_type": "markdown",
   "metadata": {},
   "source": [
    "### Verificar ejemplos"
   ]
  },
  {
   "cell_type": "code",
   "execution_count": null,
   "metadata": {},
   "outputs": [],
   "source": [
    "# ejemplo 01\n",
    "a = np.array([ 1,  2,  3,  4,  5,  6,  7,  8,  9, 10])\n",
    "n=4\n",
    "p=2\n",
    "\n",
    "np.testing.assert_array_equal(\n",
    "    strides(a,n,p),\n",
    "    np.array([\n",
    "       [ 1,  2,  3,  4],\n",
    "       [ 3,  4,  5,  6],\n",
    "       [ 5,  6,  7,  8],\n",
    "       [ 7,  8,  9, 10]\n",
    "    ])\n",
    ")"
   ]
  },
  {
   "cell_type": "markdown",
   "metadata": {},
   "source": [
    "<a id='p3'></a>\n",
    "\n",
    "## Problema 03\n",
    "\n",
    "\n",
    "Un **cuadrado mágico** es una matriz de tamaño $n \\times n$ de números enteros positivos tal que \n",
    "la suma de los números por columnas, filas y diagonales principales sea la misma. Usualmente, los números empleados para rellenar las casillas son consecutivos, de 1 a $n^2$, siendo $n$ el número de columnas y filas del cuadrado mágico.\n",
    "\n",
    "Si los números son consecutivos de 1 a $n^2$, la suma de los números por columnas, filas y diagonales principales \n",
    "es igual a : $$\\displaystyle M_{n} = \\dfrac{n(n^2+1)}{2}$$\n",
    "Por ejemplo, \n",
    "\n",
    "* $A= \\begin{pmatrix}\n",
    " 4& 9 &2 \\\\ \n",
    " 3&  5&7 \\\\ \n",
    " 8& 1 &6 \n",
    "\\end{pmatrix}$,\n",
    "es un cuadrado mágico.\n",
    "\n",
    "* $B= \\begin{pmatrix}\n",
    " 4& 2 &9 \\\\ \n",
    " 3&  5&7 \\\\ \n",
    " 8& 1 &6 \n",
    "\\end{pmatrix}$, no es un cuadrado mágico.\n",
    "\n",
    "Implemente una función llamada `es_cudrado_magico` cuyo input sea una matriz cuadrada de tamaño $n$ con números consecutivos de $1$ a $n^2$ y cuyo ouput retorne *True* si es un cuadrado mágico o 'False', en caso contrario\n",
    "\n",
    "* **Ejemplo**: *es_cudrado_magico($A$)* = True, *es_cudrado_magico($B$)* = False\n",
    "\n",
    "**Hint**: Cree una función que valide la mariz es cuadrada y  que sus números son consecutivos del 1 a $n^2$."
   ]
  },
  {
   "cell_type": "markdown",
   "metadata": {},
   "source": [
    "### Definir Función"
   ]
  },
  {
   "cell_type": "code",
   "execution_count": null,
   "metadata": {},
   "outputs": [],
   "source": [
    "def es_cudrado_magico(M):\n",
    "    \n",
    "    \"\"\"\n",
    "    es_cudrado_magico(M)\n",
    "\n",
    "    Revisa si la matriz M es un cuadrado mágico.\n",
    "\n",
    "    Parameters\n",
    "    ----------\n",
    "    M : matriz\n",
    "        Matriz a revisar si es cuadrado mágico.\n",
    "\n",
    "    Returns\n",
    "    -------\n",
    "    output : bool\n",
    "        True or False.\n",
    "    \"\"\"\n",
    "    \n",
    "    if M.shape[0]!=M.shape[1]:#revisa que la matriz sea cuadrada\n",
    "        return False\n",
    "    else:\n",
    "        for i in range(0,M.shape[0]):#revisa que ningun termino sea mayor a n^2\n",
    "            for k in range (0,M.shape[0]):\n",
    "                if  M[i][k]>M.shape[0]**2:\n",
    "                    return False\n",
    "        M_n=M.shape[0]*(M.shape[0]**2+1)/2#calcula valor M_n con el que se comparan las sumas\n",
    "        for i in range(0,M.shape[0]):#suma las filas y revisa si dan M_n\n",
    "            v=0\n",
    "            for k in range (0,M.shape[0]):\n",
    "                v+=M[i][k]\n",
    "            if v!=M_n:#si alguna fila no suma M_n devuelve falso\n",
    "                return False\n",
    "        for k in range(0,M.shape[0]):#suma las columnas y revisa si dan M_n\n",
    "            v=0\n",
    "            for i in range (0,M.shape[0]):\n",
    "                v+=M[i][k]\n",
    "            if v!=M_n:#si alguna columna no suma M_n devuelve falso\n",
    "                return False\n",
    "        for i in range(0,M.shape[0]):#suma la diagonal principal y revisa si dan M_n\n",
    "            v=0\n",
    "            v+=M[i][i]\n",
    "            if i==M.shape[0]:\n",
    "                if v!=M_n:#si la diagonal principal no suma M_n devuelve falso\n",
    "                    return False\n",
    "        v=0\n",
    "        for i in range (0,M.shape[0]):#suma la diagonal inversa (M_13,M_22,M_31) y revisa si dan M_n\n",
    "            k=0\n",
    "            v+=M[i][M.shape[0]-1-k]\n",
    "            k+=1\n",
    "        if v!=M_n:#si la diagonal inversa no suma M_n devuelve falso\n",
    "            return False \n",
    "    return True"
   ]
  },
  {
   "cell_type": "markdown",
   "metadata": {},
   "source": [
    "### Verificar ejemplos"
   ]
  },
  {
   "cell_type": "code",
   "execution_count": null,
   "metadata": {},
   "outputs": [],
   "source": [
    "# ejemplo 01\n",
    "A = np.array([[4,9,2],[3,5,7],[8,1,6]])\n",
    "assert es_cudrado_magico(A) == True, \"ejemplo 01 incorrecto\""
   ]
  },
  {
   "cell_type": "code",
   "execution_count": null,
   "metadata": {},
   "outputs": [],
   "source": [
    "# ejemplo 02\n",
    "B = np.array([[4,2,9],[3,5,7],[8,1,6]])\n",
    "assert es_cudrado_magico(B) == False, \"ejemplo 02 incorrecto\""
   ]
  }
 ],
 "metadata": {
  "kernelspec": {
   "display_name": "Python 3 (ipykernel)",
   "language": "python",
   "name": "python3"
  },
  "language_info": {
   "codemirror_mode": {
    "name": "ipython",
    "version": 3
   },
   "file_extension": ".py",
   "mimetype": "text/x-python",
   "name": "python",
   "nbconvert_exporter": "python",
   "pygments_lexer": "ipython3",
   "version": "3.8.11"
  }
 },
 "nbformat": 4,
 "nbformat_minor": 4
}
